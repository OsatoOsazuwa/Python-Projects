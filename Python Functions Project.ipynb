{
 "cells": [
  {
   "cell_type": "markdown",
   "id": "933a47db-f7b1-4a7b-9b56-73a379f33aaa",
   "metadata": {},
   "source": [
    "#### Python Functions Task\n",
    "\n",
    "Create a calculator program that allows the user to perform mathematical operations on two numbers using basic functions and a dictionary to store the operations. The program should also have the ability to continue calculations with the result of previous calculations.ctioning properly."
   ]
  },
  {
   "cell_type": "code",
   "execution_count": null,
   "id": "20db2b0d-5793-4225-bb51-5a5089fab203",
   "metadata": {},
   "outputs": [
    {
     "name": "stdout",
     "output_type": "stream",
     "text": [
      "Welcome to Python Calculator!!!\n"
     ]
    },
    {
     "name": "stdin",
     "output_type": "stream",
     "text": [
      "Input the first number please.\n",
      " 23\n"
     ]
    },
    {
     "name": "stdout",
     "output_type": "stream",
     "text": [
      "+\n",
      "-\n",
      "*\n",
      "/\n"
     ]
    },
    {
     "name": "stdin",
     "output_type": "stream",
     "text": [
      "Select an operation symbol\n",
      " +\n",
      "Input the second number please.\n",
      " 23\n"
     ]
    },
    {
     "name": "stdout",
     "output_type": "stream",
     "text": [
      "23 + 23: 46\n"
     ]
    },
    {
     "name": "stdin",
     "output_type": "stream",
     "text": [
      "Would you like to continue using the result as the first number for further calculations?\n",
      "Please enter 'Y' for Yes and 'N' for No or press 'Exit' to End\n",
      " Y\n"
     ]
    },
    {
     "name": "stdout",
     "output_type": "stream",
     "text": [
      "+\n",
      "-\n",
      "*\n",
      "/\n"
     ]
    },
    {
     "name": "stdin",
     "output_type": "stream",
     "text": [
      "Select an operation symbol\n",
      " +\n",
      "Input the second number please.\n",
      " 23\n"
     ]
    },
    {
     "name": "stdout",
     "output_type": "stream",
     "text": [
      "46 + 23: 69\n"
     ]
    },
    {
     "name": "stdin",
     "output_type": "stream",
     "text": [
      "Would you like to continue using the result as the first number for further calculations?\n",
      "Please enter 'Y' for Yes and 'N' for No or press 'Exit' to End\n",
      " Y\n"
     ]
    },
    {
     "name": "stdout",
     "output_type": "stream",
     "text": [
      "+\n",
      "-\n",
      "*\n",
      "/\n"
     ]
    },
    {
     "name": "stdin",
     "output_type": "stream",
     "text": [
      "Select an operation symbol\n",
      " +\n",
      "Input the second number please.\n",
      " 23\n"
     ]
    },
    {
     "name": "stdout",
     "output_type": "stream",
     "text": [
      "69 + 23: 92\n"
     ]
    },
    {
     "name": "stdin",
     "output_type": "stream",
     "text": [
      "Would you like to continue using the result as the first number for further calculations?\n",
      "Please enter 'Y' for Yes and 'N' for No or press 'Exit' to End\n",
      " Y\n"
     ]
    },
    {
     "name": "stdout",
     "output_type": "stream",
     "text": [
      "+\n",
      "-\n",
      "*\n",
      "/\n"
     ]
    },
    {
     "name": "stdin",
     "output_type": "stream",
     "text": [
      "Select an operation symbol\n",
      " +\n",
      "Input the second number please.\n",
      " 23\n"
     ]
    },
    {
     "name": "stdout",
     "output_type": "stream",
     "text": [
      "92 + 23: 115\n"
     ]
    }
   ],
   "source": [
    "\n",
    "def add(x, y):\n",
    "    return(x + y)\n",
    "    \n",
    "def subtract(x, y):\n",
    "    return(x - y)\n",
    "    \n",
    "def multiply(x, y):\n",
    "    return(x * y)\n",
    "    \n",
    "def divide(x, y):\n",
    "    return(x / y)\n",
    "    \n",
    "operations = {\"+\":add, \"-\":subtract, \"*\":multiply, \"/\":divide}\n",
    "\n",
    "logo = (\"Welcome to Python Calculator!!!\")\n",
    "print(logo)\n",
    "prompt1= input(\"Input the first number please.\\n\")\n",
    "for i,y in operations.items():\n",
    "    print(i)\n",
    "prompt2 = input(\"Select an operation symbol\\n\")\n",
    "prompt3 = input(\"Input the second number please.\\n\")\n",
    "x = int(prompt1)\n",
    "y = int(prompt3)\n",
    "calculated_function = operations[prompt2]\n",
    "answer = calculated_function(x, y)\n",
    "print(f\"{x} {prompt2} {y}: {answer}\")\n",
    "calculation_finished = True\n",
    "while calculation_finished:\n",
    "    x = answer\n",
    "    prompt4 = input(\"Would you like to continue using the result as the first number for further calculations?\\nPlease enter 'Y' for Yes and 'N' for No or press 'Exit' to End\\n\")\n",
    "    if prompt4 == \"Y\":\n",
    "        for i,y in operations.items():\n",
    "            print(i)\n",
    "        prompt5 = input(\"Select an operation symbol\\n\")\n",
    "        prompt6 = input(\"Input the second number please.\\n\")\n",
    "        y = int(prompt6)\n",
    "        calculated_function1 = operations[prompt5]\n",
    "        answer = calculated_function1(x, y)\n",
    "        print(f\"{x} {prompt5} {y}: {answer}\")\n",
    "    elif prompt4 == \"N\":\n",
    "        print(logo)\n",
    "        prompt7 = input(\"Input the first number please.\\n\")\n",
    "        for i,y in operations.items():\n",
    "            print(i)\n",
    "        prompt8 = input(\"Select an operation symbol\\n\")\n",
    "        prompt9 = input(\"Input the second number please.\\n\")\n",
    "        x = int(prompt7)\n",
    "        y = int(prompt9)\n",
    "        calculated_function = operations[prompt8]\n",
    "        answer = calculated_function(x, y)\n",
    "        print(f\"{x} {prompt8} {y}: {answer}\")\n",
    "    elif prompt4 == \"Exit\":\n",
    "        print(\"Exiting calculator.\\nBye!\")\n",
    "        break\n",
    "    else: \n",
    "        print(\"Try again!\")  "
   ]
  },
  {
   "cell_type": "code",
   "execution_count": null,
   "id": "bb6f7efb-76af-42be-9c07-16577b35cf24",
   "metadata": {},
   "outputs": [],
   "source": []
  }
 ],
 "metadata": {
  "kernelspec": {
   "display_name": "Python 3 (ipykernel)",
   "language": "python",
   "name": "python3"
  },
  "language_info": {
   "codemirror_mode": {
    "name": "ipython",
    "version": 3
   },
   "file_extension": ".py",
   "mimetype": "text/x-python",
   "name": "python",
   "nbconvert_exporter": "python",
   "pygments_lexer": "ipython3",
   "version": "3.12.4"
  }
 },
 "nbformat": 4,
 "nbformat_minor": 5
}
