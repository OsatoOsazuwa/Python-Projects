{
 "cells": [
  {
   "cell_type": "markdown",
   "id": "9ea0e45f-0e7f-4e04-b0f8-e85b6d926bbc",
   "metadata": {},
   "source": [
    "### Checkpoint \n",
    "Create a class called \"Account\" that has the following attributes:\r\n",
    "\r\n",
    "account_number (string)\r\n",
    "account_balance (float)\r\n",
    "account_holder (stri\n",
    "ng)\r\n",
    "The class should have the following met\n",
    "Ds:\r\n",
    "\r\n",
    "deposit(amount: float) - This method should add the amount passed as an argument to the account b Wance.\r\n",
    "withdraw(amount: float) - This method should subtract the amount passed as an argument from the account balance, but only if the account bal ance is greater than the amount being wi Cdrawn.\r\n",
    "check_balance() - This method should return the current account balance."
   ]
  },
  {
   "cell_type": "code",
   "execution_count": 40,
   "id": "294ad959-0430-40ae-acaa-93a27ef0eb81",
   "metadata": {},
   "outputs": [],
   "source": [
    "class Account:\n",
    "    def __init__(self, account_number: str, account_balance: float, account_holder: str):\n",
    "        self.account_number = account_number\n",
    "        self.account_balance = account_balance\n",
    "        self.account_holder = account_holder\n",
    "    def deposit(self, deposit):\n",
    "        self.account_balance += deposit\n",
    "    def withdraw(self, withdraw):\n",
    "        if self.account_balance >= withdraw:\n",
    "            self.account_balance -= withdraw\n",
    "        else:\n",
    "            print(f\"Your account balance is {self.account_balance}. Please withdraw amount not exceeding {self.account_balance}\")\n",
    "    def check_balance(self):\n",
    "        return self.account_balance\n",
    "    "
   ]
  },
  {
   "cell_type": "code",
   "execution_count": 41,
   "id": "f1b119da-b78c-4fcc-9f38-8ad1f3cc0112",
   "metadata": {},
   "outputs": [],
   "source": [
    "my_account = Account(\"0236155481\", 1000.00, \"Osato Osazuwa\")"
   ]
  },
  {
   "cell_type": "code",
   "execution_count": 42,
   "id": "3374478d-45af-42d7-a9f5-026d20bdb421",
   "metadata": {},
   "outputs": [
    {
     "data": {
      "text/plain": [
       "1000.0"
      ]
     },
     "execution_count": 42,
     "metadata": {},
     "output_type": "execute_result"
    }
   ],
   "source": [
    "my_account.account_balance"
   ]
  },
  {
   "cell_type": "code",
   "execution_count": 43,
   "id": "0aa6d4ee-345a-48e3-b959-d588e457efd9",
   "metadata": {},
   "outputs": [],
   "source": [
    "my_account.deposit(2000)"
   ]
  },
  {
   "cell_type": "code",
   "execution_count": 44,
   "id": "617c89d0-4879-4a15-937b-9d41baee78a3",
   "metadata": {},
   "outputs": [
    {
     "data": {
      "text/plain": [
       "3000.0"
      ]
     },
     "execution_count": 44,
     "metadata": {},
     "output_type": "execute_result"
    }
   ],
   "source": [
    "my_account.account_balance"
   ]
  },
  {
   "cell_type": "code",
   "execution_count": 45,
   "id": "b06701f6-5dcc-476d-ab73-0eedabb9dcc9",
   "metadata": {},
   "outputs": [
    {
     "name": "stdout",
     "output_type": "stream",
     "text": [
      "Your account balance is 3000.0. Please withdraw amount not exceeding 3000.0\n"
     ]
    }
   ],
   "source": [
    "my_account.withdraw(5000)"
   ]
  },
  {
   "cell_type": "code",
   "execution_count": 46,
   "id": "945e1ff2-0cb6-4b09-889e-675aed23d708",
   "metadata": {},
   "outputs": [],
   "source": [
    "my_account.withdraw(2000)"
   ]
  },
  {
   "cell_type": "code",
   "execution_count": 47,
   "id": "3b73d753-0c8a-4324-ae89-5af9b1377e95",
   "metadata": {},
   "outputs": [
    {
     "data": {
      "text/plain": [
       "1000.0"
      ]
     },
     "execution_count": 47,
     "metadata": {},
     "output_type": "execute_result"
    }
   ],
   "source": [
    "my_account.account_balance"
   ]
  },
  {
   "cell_type": "code",
   "execution_count": null,
   "id": "3edb486a-c0f4-4428-8a9e-3ab30f39f085",
   "metadata": {},
   "outputs": [],
   "source": []
  }
 ],
 "metadata": {
  "kernelspec": {
   "display_name": "Python 3 (ipykernel)",
   "language": "python",
   "name": "python3"
  },
  "language_info": {
   "codemirror_mode": {
    "name": "ipython",
    "version": 3
   },
   "file_extension": ".py",
   "mimetype": "text/x-python",
   "name": "python",
   "nbconvert_exporter": "python",
   "pygments_lexer": "ipython3",
   "version": "3.12.4"
  }
 },
 "nbformat": 4,
 "nbformat_minor": 5
}
