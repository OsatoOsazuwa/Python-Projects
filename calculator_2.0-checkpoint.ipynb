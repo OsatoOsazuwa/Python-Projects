{
 "cells": [
  {
   "cell_type": "markdown",
   "id": "fe7e057f-8c30-4919-9144-0a18b9154226",
   "metadata": {},
   "source": [
    "### Object Oriented Programming Checkpoint 2\n",
    "\n",
    "In this exercise, you will expand on the basic calculator program by adding more advanced mathematical operations and error handling using object-oriented programming."
   ]
  },
  {
   "cell_type": "code",
   "execution_count": 8,
   "id": "ac0a1b45-b599-425f-81cc-1af8d335832f",
   "metadata": {},
   "outputs": [
    {
     "name": "stdin",
     "output_type": "stream",
     "text": [
      "Enter the first number:  10\n",
      "Enter the operation (+, -, *, /, ^, sqrt, log):  log\n",
      "Enter the base for logarithm:  10\n"
     ]
    },
    {
     "name": "stdout",
     "output_type": "stream",
     "text": [
      "Result: 1.0\n"
     ]
    },
    {
     "name": "stdin",
     "output_type": "stream",
     "text": [
      "Do you want to continue? (yes/no):  no\n"
     ]
    }
   ],
   "source": [
    "import math\n",
    "class Calculator:\n",
    "    def __init__(self):\n",
    "        self.mathoperations = {\n",
    "            \"+\":self.add,\n",
    "            \"-\":self.subtract,\n",
    "            \"/\":self.divide,\n",
    "            \"*\":self.multiply\n",
    "        }\n",
    "        \n",
    "    # add operation method to add new operations to the dictionary\n",
    "    def add_operation(self, operation_symbol, function):\n",
    "        self.mathoperations[operation_symbol] = function\n",
    "    # create calculate method \n",
    "    def calculate(self,first_number,symbol,second_number=None):\n",
    "        if symbol not in self.mathoperations:\n",
    "            print(\"Error! Please input a valid operator\")\n",
    "        if not (isinstance(first_number, (int,float)) and (second_number is None or isinstance(second_number,(int, float)))):\n",
    "            print(\"Please enter a correct value. Both inputs should be numbers\")\n",
    "        try:\n",
    "            if second_number is None:\n",
    "                result = self.mathoperations[symbol](first_number)\n",
    "            else:\n",
    "                result = self.mathoperations[symbol](first_number, second_number)\n",
    "            return result\n",
    "        except ZeroDivisionError:\n",
    "            print('Error: Division by zero.')\n",
    "            return None\n",
    "\n",
    "    def add(self, first_number, second_number):\n",
    "        return first_number + second_number\n",
    "\n",
    "    def subtract(self, first_number, second_number):\n",
    "        return first_number - second_number\n",
    "\n",
    "    def multiply(self, first_number, second_number):\n",
    "        return first_number * second_number\n",
    "\n",
    "    def divide(self, first_number, second_number):\n",
    "        if second_number == 0:\n",
    "            raise ZeroDivisionError\n",
    "        return first_number / second_number\n",
    "\n",
    "    # Add advanced mathematical operations to the calculator\n",
    "    def add_advanced_operations(self):\n",
    "        self.add_operation('^', self.exponentiation)\n",
    "        self.add_operation('sqrt', self.square_root)\n",
    "        self.add_operation('log', self.logarithm)\n",
    "\n",
    "    def exponentiation(self, first_number, second_number):\n",
    "        return first_number ** second_number\n",
    "\n",
    "    def square_root(self, first_number):\n",
    "        if first_number < 0:\n",
    "            print(\"Error: cannot calculate square root of a negative number.\")\n",
    "            return None\n",
    "        return math.sqrt(first_number)\n",
    "\n",
    "    def logarithm(self, first_number, base):\n",
    "        if first_number <= 0 or base <= 0:\n",
    "            print(\"Error: Cannot calculate logarithm with non-positive numbers.\")\n",
    "            return None\n",
    "        return math.log(first_number, base)\n",
    "\n",
    "\n",
    "# Main program\n",
    "calculator = Calculator()\n",
    "calculator.add_advanced_operations()\n",
    "\n",
    "while True:\n",
    "    try:\n",
    "        first_number = float(input(\"Enter the first number: \"))\n",
    "        operation = input(\"Enter the operation (+, -, *, /, ^, sqrt, log): \")\n",
    "\n",
    "        if operation == 'sqrt':\n",
    "            result = calculator.square_root(first_number)\n",
    "        elif operation == 'log':\n",
    "            base = float(input(\"Enter the base for logarithm: \"))\n",
    "            result = calculator.logarithm(first_number,base)\n",
    "        else:\n",
    "            second_number = float(input(\"Enter the second number: \"))\n",
    "            result = calculator.calculate(first_number, operation, second_number)\n",
    "\n",
    "        print(\"Result:\", result)\n",
    "\n",
    "    except ValueError as e:\n",
    "        print(\"ValueError:\", e)\n",
    "\n",
    "    choice = input(\"Do you want to continue? (yes/no): \")\n",
    "    if choice.lower() != 'yes':\n",
    "        break\n",
    "        \n",
    "        \n",
    "       "
   ]
  },
  {
   "cell_type": "code",
   "execution_count": 11,
   "id": "0d0fd11b-fa82-4403-8d9d-bbe7cd517450",
   "metadata": {},
   "outputs": [],
   "source": [
    "calculator.add_advanced_operations()\n"
   ]
  },
  {
   "cell_type": "code",
   "execution_count": null,
   "id": "a8040de6-1f4a-4d31-b600-90c825795890",
   "metadata": {},
   "outputs": [],
   "source": []
  },
  {
   "cell_type": "code",
   "execution_count": null,
   "id": "bbefd487-3cb3-4047-885b-99cd5edabbdb",
   "metadata": {},
   "outputs": [],
   "source": []
  },
  {
   "cell_type": "code",
   "execution_count": null,
   "id": "4f35f93a-f0a5-4b01-9557-16238bcf49e6",
   "metadata": {},
   "outputs": [],
   "source": []
  },
  {
   "cell_type": "code",
   "execution_count": null,
   "id": "7c7f56e3-2618-4393-8a9a-4373239fa1c3",
   "metadata": {},
   "outputs": [],
   "source": []
  },
  {
   "cell_type": "code",
   "execution_count": null,
   "id": "8d15a4cc-41fa-4dcb-836c-2960fc317da6",
   "metadata": {},
   "outputs": [],
   "source": []
  }
 ],
 "metadata": {
  "kernelspec": {
   "display_name": "Python 3 (ipykernel)",
   "language": "python",
   "name": "python3"
  },
  "language_info": {
   "codemirror_mode": {
    "name": "ipython",
    "version": 3
   },
   "file_extension": ".py",
   "mimetype": "text/x-python",
   "name": "python",
   "nbconvert_exporter": "python",
   "pygments_lexer": "ipython3",
   "version": "3.12.4"
  }
 },
 "nbformat": 4,
 "nbformat_minor": 5
}
