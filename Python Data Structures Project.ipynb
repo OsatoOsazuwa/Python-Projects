{
 "cells": [
  {
   "cell_type": "markdown",
   "id": "a5c0ecd1-0f2e-43cb-bd86-fecf3e00c51a",
   "metadata": {},
   "source": [
    "## Python Data Structures Checkpoint\n",
    "\n",
    "Create a program that allows the user to manage their shopping list. The user should be able to add items to the list, remove items, and view the current list of items.\n",
    "\n",
    "\n",
    "Instructions\n",
    "\n",
    "Statement:\n",
    "\n",
    "a. Create a list to store the shopping items\n",
    "\n",
    "b. Use a while loop to create a menu of options for the user to add, remove, or view items from the list\n",
    "\n",
    "c. Use a for loop to iterate through the list of items and display them to the user\n",
    "\n",
    "d. Use the range() function to limit the number of items that can be added to the list\n",
    "\n",
    "e. Use the list, tuple, set, and dictionary data structures to store and manipulate the shopping items\n",
    "\n",
    "Instructions:\n",
    "\n",
    "a. Create a list named 'shopping_list' to store the items.\n",
    "\n",
    "b. Use a while loop to create a menu of options for the user to add, remove, or view items from the list.\n",
    "\n",
    "c. Use the input() function to prompt the user to make a selection from the menu.\n",
    "\n",
    "d. Use an if-elif-else block to determine the user's selection and perform the corresponding action.\n",
    "\n",
    "e. If the user selects 'add', use the input() function to prompt the user to enter an item to add to the list. Use the range() function to limit the       number of items that can be added to the list.\n",
    "\n",
    "f. If the user selects 'remove', use the input() function to prompt the user to enter an item to remove from the list.\n",
    "\n",
    "g. If the user selects 'view', use a for loop to iterate through the list of items and display them to the user.\n",
    "\n",
    "h. Use the list, tuple, set, and dictionary data structures to store and manipulate the shopping items."
   ]
  },
  {
   "cell_type": "code",
   "execution_count": 2,
   "id": "0f15623c-42fa-4b98-90e5-8bf4c0c32158",
   "metadata": {},
   "outputs": [
    {
     "name": "stdin",
     "output_type": "stream",
     "text": [
      "Please make a selection. \"Add\", \"Remove\", \"View\" Add\n",
      "Please include the items you want to add! \n",
      " Meat\n",
      "Please make a selection. \"Add\", \"Remove\", \"View\" Add\n",
      "Please include the items you want to add! \n",
      " Egg\n",
      "Please make a selection. \"Add\", \"Remove\", \"View\" Add\n",
      "Please include the items you want to add! \n",
      " Parfait\n",
      "Please make a selection. \"Add\", \"Remove\", \"View\" Add\n",
      "Please include the items you want to add! \n",
      " Cheese\n",
      "Please make a selection. \"Add\", \"Remove\", \"View\" Add\n",
      "Please include the items you want to add! \n",
      " Yoghurt\n",
      "Please make a selection. \"Add\", \"Remove\", \"View\" Add\n",
      "Please include the items you want to add! \n",
      " Fish\n",
      "Please make a selection. \"Add\", \"Remove\", \"View\" Add\n",
      "Please include the items you want to add! \n",
      " Beans\n",
      "Please make a selection. \"Add\", \"Remove\", \"View\" View\n"
     ]
    },
    {
     "name": "stdout",
     "output_type": "stream",
     "text": [
      "['Meat', 'Egg', 'Parfait', 'Cheese', 'Yoghurt', 'Fish', 'Beans']\n"
     ]
    },
    {
     "name": "stdin",
     "output_type": "stream",
     "text": [
      "Please make a selection. \"Add\", \"Remove\", \"View\" Add\n",
      "Please include the items you want to add! \n",
      " Ink\n"
     ]
    },
    {
     "name": "stdout",
     "output_type": "stream",
     "text": [
      "There are 7 items in the list. This list is full, please delete some items!\n"
     ]
    },
    {
     "ename": "KeyboardInterrupt",
     "evalue": "Interrupted by user",
     "output_type": "error",
     "traceback": [
      "\u001b[1;31m---------------------------------------------------------------------------\u001b[0m",
      "\u001b[1;31mKeyboardInterrupt\u001b[0m                         Traceback (most recent call last)",
      "Cell \u001b[1;32mIn[2], line 4\u001b[0m\n\u001b[0;32m      1\u001b[0m shopping_list \u001b[38;5;241m=\u001b[39m[]\n\u001b[0;32m      3\u001b[0m \u001b[38;5;28;01mwhile\u001b[39;00m \u001b[38;5;28;01mTrue\u001b[39;00m:\n\u001b[1;32m----> 4\u001b[0m     user_selection \u001b[38;5;241m=\u001b[39m \u001b[38;5;28minput\u001b[39m(\u001b[38;5;124m'\u001b[39m\u001b[38;5;124mPlease make a selection. \u001b[39m\u001b[38;5;124m\"\u001b[39m\u001b[38;5;124mAdd\u001b[39m\u001b[38;5;124m\"\u001b[39m\u001b[38;5;124m, \u001b[39m\u001b[38;5;124m\"\u001b[39m\u001b[38;5;124mRemove\u001b[39m\u001b[38;5;124m\"\u001b[39m\u001b[38;5;124m, \u001b[39m\u001b[38;5;124m\"\u001b[39m\u001b[38;5;124mView\u001b[39m\u001b[38;5;124m\"\u001b[39m\u001b[38;5;124m'\u001b[39m)\n\u001b[0;32m      5\u001b[0m     \u001b[38;5;28;01mif\u001b[39;00m user_selection \u001b[38;5;241m==\u001b[39m \u001b[38;5;124m\"\u001b[39m\u001b[38;5;124mAdd\u001b[39m\u001b[38;5;124m\"\u001b[39m:\n\u001b[0;32m      6\u001b[0m         add_selection \u001b[38;5;241m=\u001b[39m \u001b[38;5;28minput\u001b[39m(\u001b[38;5;124m'\u001b[39m\u001b[38;5;124mPlease include the items you want to add! \u001b[39m\u001b[38;5;130;01m\\n\u001b[39;00m\u001b[38;5;124m'\u001b[39m)\n",
      "File \u001b[1;32m~\\anaconda3_1\\Lib\\site-packages\\ipykernel\\kernelbase.py:1262\u001b[0m, in \u001b[0;36mKernel.raw_input\u001b[1;34m(self, prompt)\u001b[0m\n\u001b[0;32m   1260\u001b[0m     msg \u001b[38;5;241m=\u001b[39m \u001b[38;5;124m\"\u001b[39m\u001b[38;5;124mraw_input was called, but this frontend does not support input requests.\u001b[39m\u001b[38;5;124m\"\u001b[39m\n\u001b[0;32m   1261\u001b[0m     \u001b[38;5;28;01mraise\u001b[39;00m StdinNotImplementedError(msg)\n\u001b[1;32m-> 1262\u001b[0m \u001b[38;5;28;01mreturn\u001b[39;00m \u001b[38;5;28mself\u001b[39m\u001b[38;5;241m.\u001b[39m_input_request(\n\u001b[0;32m   1263\u001b[0m     \u001b[38;5;28mstr\u001b[39m(prompt),\n\u001b[0;32m   1264\u001b[0m     \u001b[38;5;28mself\u001b[39m\u001b[38;5;241m.\u001b[39m_parent_ident[\u001b[38;5;124m\"\u001b[39m\u001b[38;5;124mshell\u001b[39m\u001b[38;5;124m\"\u001b[39m],\n\u001b[0;32m   1265\u001b[0m     \u001b[38;5;28mself\u001b[39m\u001b[38;5;241m.\u001b[39mget_parent(\u001b[38;5;124m\"\u001b[39m\u001b[38;5;124mshell\u001b[39m\u001b[38;5;124m\"\u001b[39m),\n\u001b[0;32m   1266\u001b[0m     password\u001b[38;5;241m=\u001b[39m\u001b[38;5;28;01mFalse\u001b[39;00m,\n\u001b[0;32m   1267\u001b[0m )\n",
      "File \u001b[1;32m~\\anaconda3_1\\Lib\\site-packages\\ipykernel\\kernelbase.py:1305\u001b[0m, in \u001b[0;36mKernel._input_request\u001b[1;34m(self, prompt, ident, parent, password)\u001b[0m\n\u001b[0;32m   1302\u001b[0m \u001b[38;5;28;01mexcept\u001b[39;00m \u001b[38;5;167;01mKeyboardInterrupt\u001b[39;00m:\n\u001b[0;32m   1303\u001b[0m     \u001b[38;5;66;03m# re-raise KeyboardInterrupt, to truncate traceback\u001b[39;00m\n\u001b[0;32m   1304\u001b[0m     msg \u001b[38;5;241m=\u001b[39m \u001b[38;5;124m\"\u001b[39m\u001b[38;5;124mInterrupted by user\u001b[39m\u001b[38;5;124m\"\u001b[39m\n\u001b[1;32m-> 1305\u001b[0m     \u001b[38;5;28;01mraise\u001b[39;00m \u001b[38;5;167;01mKeyboardInterrupt\u001b[39;00m(msg) \u001b[38;5;28;01mfrom\u001b[39;00m \u001b[38;5;28;01mNone\u001b[39;00m\n\u001b[0;32m   1306\u001b[0m \u001b[38;5;28;01mexcept\u001b[39;00m \u001b[38;5;167;01mException\u001b[39;00m:\n\u001b[0;32m   1307\u001b[0m     \u001b[38;5;28mself\u001b[39m\u001b[38;5;241m.\u001b[39mlog\u001b[38;5;241m.\u001b[39mwarning(\u001b[38;5;124m\"\u001b[39m\u001b[38;5;124mInvalid Message:\u001b[39m\u001b[38;5;124m\"\u001b[39m, exc_info\u001b[38;5;241m=\u001b[39m\u001b[38;5;28;01mTrue\u001b[39;00m)\n",
      "\u001b[1;31mKeyboardInterrupt\u001b[0m: Interrupted by user"
     ]
    }
   ],
   "source": [
    "shopping_list =[]\n",
    "\n",
    "while True:\n",
    "    user_selection = input('Please make a selection. \"Add\", \"Remove\", \"View\"')\n",
    "    if user_selection == \"Add\":\n",
    "        add_selection = input('Please include the items you want to add! \\n')\n",
    "        if len(shopping_list) <= 6:\n",
    "            shopping_list.append(add_selection)\n",
    "        else: print(\"There are\", len(shopping_list),\"items in the list. This list is full, please delete some items!\")\n",
    "    elif user_selection == \"Remove\":\n",
    "        remove_selection = input('Please include the items you want to remove! \\n')\n",
    "        if remove_selection in shopping_list:\n",
    "            shopping_list.remove(remove_selection)\n",
    "        else:\n",
    "            print(\"This item is not in the list!\")\n",
    "    elif user_selection == \"View\":\n",
    "        print(shopping_list)\n",
    "    elif user_selection == \"Quit\":\n",
    "        break\n",
    "    else: \n",
    "        print(\"If you\\'re done, please exit!\")"
   ]
  },
  {
   "cell_type": "code",
   "execution_count": null,
   "id": "f0f7a69c-070b-4b54-805f-6b30de7f8162",
   "metadata": {},
   "outputs": [],
   "source": []
  }
 ],
 "metadata": {
  "kernelspec": {
   "display_name": "Python 3 (ipykernel)",
   "language": "python",
   "name": "python3"
  },
  "language_info": {
   "codemirror_mode": {
    "name": "ipython",
    "version": 3
   },
   "file_extension": ".py",
   "mimetype": "text/x-python",
   "name": "python",
   "nbconvert_exporter": "python",
   "pygments_lexer": "ipython3",
   "version": "3.12.4"
  }
 },
 "nbformat": 4,
 "nbformat_minor": 5
}
