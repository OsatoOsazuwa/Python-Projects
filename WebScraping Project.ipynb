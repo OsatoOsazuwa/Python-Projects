{
 "cells": [
  {
   "cell_type": "markdown",
   "id": "db4900fa-2212-46c3-8fbf-93326e506479",
   "metadata": {},
   "source": [
    "### Web Scraping Project\n",
    "Scraping text from Wikipedia  website using Beautiful Soup"
   ]
  },
  {
   "cell_type": "code",
   "execution_count": 1,
   "id": "c33bbcfa-406f-454a-bccf-abf6e9c4d137",
   "metadata": {},
   "outputs": [],
   "source": [
    "### importing necessary libraries\n",
    "import requests\n",
    "import string\n",
    "from bs4 import BeautifulSoup"
   ]
  },
  {
   "cell_type": "code",
   "execution_count": 7,
   "id": "b5bb1a06-2ded-4509-830d-a5e2ca1cb017",
   "metadata": {},
   "outputs": [
    {
     "name": "stdin",
     "output_type": "stream",
     "text": [
      "Search item:  Earthquake\n"
     ]
    },
    {
     "name": "stdout",
     "output_type": "stream",
     "text": [
      "\n",
      "\n",
      "An earthquake – also called a quake, tremor, or temblor – is the shaking of the Earth's surface resulting from a sudden release of energy in the lithosphere that creates seismic waves. Earthquakes can range in intensity, from those so weak they cannot be felt, to those violent enough to propel objects and people into the air, damage critical infrastructure, and wreak destruction across entire cities. The seismic activity of an area is the frequency, type, and size of earthquakes experienced over a particular time. The seismicity at a particular location in the Earth is the average rate of seismic energy release per unit volume.\n",
      "\n"
     ]
    }
   ],
   "source": [
    "enter_input = input(\"Search item: \")\n",
    "u_i = string.capwords(enter_input)\n",
    "lists = u_i.split()\n",
    "word = \"_\".join(lists)\n",
    "\n",
    "url = \"https://en.wikipedia.org/wiki/\"+word\n",
    "\n",
    "def wikibot(url):\n",
    "    url_open = requests.get(url)\n",
    "    soup = BeautifulSoup(url_open.content,\"html.parser\")\n",
    "    details = soup('table',{'class':'infobox'})\n",
    "    for i in details:\n",
    "        h = i.find_all('tr')\n",
    "        for j in h:\n",
    "            heading = j.find_all('th')\n",
    "            detail = j.find_all('td')\n",
    "            if heading is not None and detail is not None:\n",
    "                for x,y in zip(heading,detail):\n",
    "                    print(\"{} :: {}\".format(x.text,y.text))\n",
    "                    print(\"------------------\")\n",
    "    for i in range(1,3):\n",
    "        print(soup('p')[i].text)\n",
    "wikibot(url)"
   ]
  },
  {
   "cell_type": "code",
   "execution_count": null,
   "id": "ae81923e-57c9-41a2-9d60-8a6a5f3a5800",
   "metadata": {},
   "outputs": [],
   "source": []
  }
 ],
 "metadata": {
  "kernelspec": {
   "display_name": "Python 3 (ipykernel)",
   "language": "python",
   "name": "python3"
  },
  "language_info": {
   "codemirror_mode": {
    "name": "ipython",
    "version": 3
   },
   "file_extension": ".py",
   "mimetype": "text/x-python",
   "name": "python",
   "nbconvert_exporter": "python",
   "pygments_lexer": "ipython3",
   "version": "3.12.4"
  }
 },
 "nbformat": 4,
 "nbformat_minor": 5
}
